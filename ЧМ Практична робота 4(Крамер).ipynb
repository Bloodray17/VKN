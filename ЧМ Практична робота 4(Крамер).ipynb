{
 "cells": [
  {
   "cell_type": "code",
   "execution_count": 27,
   "id": "956f2d16-1c1e-4648-9a24-049725ffa8d4",
   "metadata": {},
   "outputs": [
    {
     "name": "stdout",
     "output_type": "stream",
     "text": [
      "A= [[ 3 -5  3]\n",
      " [ 1  2  1]\n",
      " [ 2  7 -1]]\n",
      "B= [[1]\n",
      " [4]\n",
      " [8]]\n",
      "[[ 0.27272727 -0.48484848  0.33333333]\n",
      " [-0.09090909  0.27272727  0.        ]\n",
      " [-0.09090909  0.93939394 -0.33333333]]\n",
      "X= [[1.]\n",
      " [1.]\n",
      " [1.]]\n"
     ]
    }
   ],
   "source": [
    "a=np.matrix('3 -5 3;1 2 1;2 7 -1')\n",
    "b=np.matrix('1;4;8')\n",
    "def kram(a,b):\n",
    "    det_a=np.linalg.det(a)\n",
    "    if det_a!=0:\n",
    "        a1=np.matrix(a)\n",
    "        a2=np.matrix(a)\n",
    "        a3=np.matrix(a)\n",
    "        a1[:,0]=b\n",
    "        a2[:,1]=b\n",
    "        a3[:,2]=b\n",
    "        x=np.linalg.det(a1)/det_a\n",
    "        y=np.linalg.det(a2)/det_a\n",
    "        z=np.linalg.det(a3)/det_a\n",
    "        print('Solving a system of linear algebraic equations by Cramer*s method')\n",
    "        print('x=',x.round(3),'y=',y.round(3),'z=',z.round(3))\n",
    "    else:\n",
    "        print('Determinant equals zero,the system has no solutions')\n",
    "    return x,y,z\n",
    "kram(a,b)\n",
    "print('Checki')"
   ]
  },
  {
   "cell_type": "code",
   "execution_count": null,
   "id": "b5fcb336-8f40-499d-a4e5-7a3de7cdc305",
   "metadata": {},
   "outputs": [],
   "source": []
  },
  {
   "cell_type": "code",
   "execution_count": null,
   "id": "177e8617-5960-4896-ae9c-ab0f50d1dee1",
   "metadata": {},
   "outputs": [],
   "source": []
  },
  {
   "cell_type": "code",
   "execution_count": null,
   "id": "b130eb7e-86b7-4d0e-9161-0208027430b5",
   "metadata": {},
   "outputs": [],
   "source": []
  }
 ],
 "metadata": {
  "kernelspec": {
   "display_name": "Python 3 (ipykernel)",
   "language": "python",
   "name": "python3"
  },
  "language_info": {
   "codemirror_mode": {
    "name": "ipython",
    "version": 3
   },
   "file_extension": ".py",
   "mimetype": "text/x-python",
   "name": "python",
   "nbconvert_exporter": "python",
   "pygments_lexer": "ipython3",
   "version": "3.11.5"
  }
 },
 "nbformat": 4,
 "nbformat_minor": 5
}
