{
 "cells": [
  {
   "cell_type": "code",
   "execution_count": 28,
   "id": "956f2d16-1c1e-4648-9a24-049725ffa8d4",
   "metadata": {},
   "outputs": [
    {
     "name": "stdout",
     "output_type": "stream",
     "text": [
      "Solving a system of linear algebraic equations by Cramer*s method\n",
      "x= 1.0 y= 1.0 z= 1.0\n",
      "Checking the correctness of the solution\n",
      " [[1.]\n",
      " [1.]\n",
      " [1.]]\n"
     ]
    }
   ],
   "source": [
    "import numpy as np\n",
    "a=np.array(np.random.randint(0,5,size=(5,3)))\n",
    "average_rows=np.mean(a,axis=1)\n",
    "avera_columns=np.mean(a,axis=0)\n",
    "minimum_average_row=np.min(average_rows)\n",
    "print(a)\n",
    "print(f\"Average values of rows:{average_rows}\")\n",
    "print(f\"Average column value:{average_columns}\")\n",
    "print(f\"The lowest average value among rows:{average_rows}\")"
   ]
  },
  {
   "cell_type": "code",
   "execution_count": null,
   "id": "b5fcb336-8f40-499d-a4e5-7a3de7cdc305",
   "metadata": {},
   "outputs": [],
   "source": []
  },
  {
   "cell_type": "code",
   "execution_count": null,
   "id": "177e8617-5960-4896-ae9c-ab0f50d1dee1",
   "metadata": {},
   "outputs": [],
   "source": []
  },
  {
   "cell_type": "code",
   "execution_count": null,
   "id": "b130eb7e-86b7-4d0e-9161-0208027430b5",
   "metadata": {},
   "outputs": [],
   "source": []
  }
 ],
 "metadata": {
  "kernelspec": {
   "display_name": "Python 3 (ipykernel)",
   "language": "python",
   "name": "python3"
  },
  "language_info": {
   "codemirror_mode": {
    "name": "ipython",
    "version": 3
   },
   "file_extension": ".py",
   "mimetype": "text/x-python",
   "name": "python",
   "nbconvert_exporter": "python",
   "pygments_lexer": "ipython3",
   "version": "3.11.5"
  }
 },
 "nbformat": 4,
 "nbformat_minor": 5
}
