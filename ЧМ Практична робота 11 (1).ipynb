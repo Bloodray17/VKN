{
 "cells": [
  {
   "cell_type": "code",
   "execution_count": 19,
   "id": "956f2d16-1c1e-4648-9a24-049725ffa8d4",
   "metadata": {},
   "outputs": [
    {
     "name": "stdout",
     "output_type": "stream",
     "text": [
      "Simpson method: 2.299\n",
      "Check for the Simpson method = 2.299\n"
     ]
    }
   ],
   "source": [
    "from scipy import integrate \n",
    "import numpy as np\n",
    "def f(x):\n",
    "    return np.sqrt(3 * pow(x, 2) - 0.4)\n",
    "a = 1.3\n",
    "b = 2.1\n",
    "n = 20\n",
    "def simpson_rule(f, a, b, n):\n",
    "    h = (b - a) / n \n",
    "    integral = f(a) + f(b) \n",
    "    for i in range(1, n): \n",
    "        k = a + i * h \n",
    "        if i % 2 == 0: \n",
    "            integral += 2 * f(k) \n",
    "        else: \n",
    "            integral += 4 * f(k) \n",
    "    integral *= h / 3 \n",
    "    return integral \n",
    "integral1 = simpson_rule(f, a, b, n)\n",
    "n *= 2\n",
    "integral2 = simpson_rule(f, a, b, n)\n",
    "while abs(integral2 - integral1) / 15 > 0.001:\n",
    "    integral1 = integral2\n",
    "    n *= 2\n",
    "    integral2 = simpson_rule(f, a, b, n)\n",
    "print(\"Simpson method:\", round(integral2, 3))\n",
    "v, err = integrate.quad(f, a, b)  # Перевірка \n",
    "print(\"Check for the Simpson method =\", round(v, 3))"
   ]
  },
  {
   "cell_type": "code",
   "execution_count": null,
   "id": "b5fcb336-8f40-499d-a4e5-7a3de7cdc305",
   "metadata": {},
   "outputs": [],
   "source": []
  },
  {
   "cell_type": "code",
   "execution_count": null,
   "id": "177e8617-5960-4896-ae9c-ab0f50d1dee1",
   "metadata": {},
   "outputs": [],
   "source": []
  },
  {
   "cell_type": "code",
   "execution_count": null,
   "id": "b130eb7e-86b7-4d0e-9161-0208027430b5",
   "metadata": {},
   "outputs": [],
   "source": []
  },
  {
   "cell_type": "code",
   "execution_count": null,
   "id": "62a956f8-b765-4c6b-93e4-b8e3c4dd5f42",
   "metadata": {},
   "outputs": [],
   "source": []
  },
  {
   "cell_type": "code",
   "execution_count": null,
   "id": "ad8329fe-679b-43b4-babe-95d2d7bb3d2b",
   "metadata": {},
   "outputs": [],
   "source": []
  }
 ],
 "metadata": {
  "kernelspec": {
   "display_name": "Python 3 (ipykernel)",
   "language": "python",
   "name": "python3"
  },
  "language_info": {
   "codemirror_mode": {
    "name": "ipython",
    "version": 3
   },
   "file_extension": ".py",
   "mimetype": "text/x-python",
   "name": "python",
   "nbconvert_exporter": "python",
   "pygments_lexer": "ipython3",
   "version": "3.11.5"
  }
 },
 "nbformat": 4,
 "nbformat_minor": 5
}
