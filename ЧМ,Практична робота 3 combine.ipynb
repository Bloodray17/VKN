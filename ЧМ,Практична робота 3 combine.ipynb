{
 "cells": [
  {
   "cell_type": "code",
   "execution_count": 16,
   "id": "956f2d16-1c1e-4648-9a24-049725ffa8d4",
   "metadata": {},
   "outputs": [
    {
     "name": "stdout",
     "output_type": "stream",
     "text": [
      "Solving the equation by Newton*s method x =  0.17511277668297237\n",
      "Solving the equation by Newton*s method x =  2.2258466621999284\n"
     ]
    },
    {
     "name": "stderr",
     "output_type": "stream",
     "text": [
      "C:\\Users\\pc\\AppData\\Local\\Temp\\ipykernel_52940\\2480114332.py:8: DeprecationWarning: scipy.misc.derivative is deprecated in SciPy v1.10.0; and will be completely removed in SciPy v1.12.0. You may consider using findiff: https://github.com/maroba/findiff or numdifftools: https://github.com/pbrod/numdifftools\n",
      "  df2 = derivative(f, b, n = 2)\n",
      "C:\\Users\\pc\\AppData\\Local\\Temp\\ipykernel_52940\\2480114332.py:13: DeprecationWarning: scipy.misc.derivative is deprecated in SciPy v1.10.0; and will be completely removed in SciPy v1.12.0. You may consider using findiff: https://github.com/maroba/findiff or numdifftools: https://github.com/pbrod/numdifftools\n",
      "  df = derivative(f,xi, n= 1)\n"
     ]
    }
   ],
   "source": [
    "import numpy as np  \n",
    "import math  \n",
    "from scipy.misc import derivative  \n",
    "def f(x):  \n",
    "    return x**4-2*x**3+2*x**2-6*x+1  \n",
    "eps = 0.001 #точність  \n",
    "def nuton(a,b,eps):  \n",
    "    df2 = derivative(f, b, n = 2)  \n",
    "    if (f(b)*df2>0):  \n",
    "        xi = b  \n",
    "    else:  \n",
    "        xi = a  \n",
    "    df = derivative(f,xi, n= 1)  \n",
    "    xi_1 = xi - f(xi)/df  \n",
    "    while (abs(xi_1 - xi)>eps): #accuracy check  \n",
    "        xi = xi_1  \n",
    "        xi_1 = xi - f(xi)/df  \n",
    "    return print ('Solving the equation by Newton*s method x = ', xi_1)  \n",
    "nuton (0,1,eps)  \n",
    "nuton (2,3,eps) "
   ]
  },
  {
   "cell_type": "code",
   "execution_count": null,
   "id": "b5fcb336-8f40-499d-a4e5-7a3de7cdc305",
   "metadata": {},
   "outputs": [],
   "source": []
  },
  {
   "cell_type": "code",
   "execution_count": null,
   "id": "177e8617-5960-4896-ae9c-ab0f50d1dee1",
   "metadata": {},
   "outputs": [],
   "source": []
  },
  {
   "cell_type": "code",
   "execution_count": null,
   "id": "b130eb7e-86b7-4d0e-9161-0208027430b5",
   "metadata": {},
   "outputs": [],
   "source": []
  }
 ],
 "metadata": {
  "kernelspec": {
   "display_name": "Python 3 (ipykernel)",
   "language": "python",
   "name": "python3"
  },
  "language_info": {
   "codemirror_mode": {
    "name": "ipython",
    "version": 3
   },
   "file_extension": ".py",
   "mimetype": "text/x-python",
   "name": "python",
   "nbconvert_exporter": "python",
   "pygments_lexer": "ipython3",
   "version": "3.11.5"
  }
 },
 "nbformat": 4,
 "nbformat_minor": 5
}
