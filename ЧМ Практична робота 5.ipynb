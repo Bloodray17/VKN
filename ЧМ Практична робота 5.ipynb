{
 "cells": [
  {
   "cell_type": "code",
   "execution_count": 38,
   "id": "956f2d16-1c1e-4648-9a24-049725ffa8d4",
   "metadata": {},
   "outputs": [
    {
     "ename": "NameError",
     "evalue": "name 'xn1' is not defined",
     "output_type": "error",
     "traceback": [
      "\u001b[1;31m---------------------------------------------------------------------------\u001b[0m",
      "\u001b[1;31mNameError\u001b[0m                                 Traceback (most recent call last)",
      "Cell \u001b[1;32mIn[38], line 19\u001b[0m\n\u001b[0;32m     17\u001b[0m  yn1 \u001b[38;5;241m=\u001b[39m f1(y)\n\u001b[0;32m     18\u001b[0m  n \u001b[38;5;241m=\u001b[39m \u001b[38;5;241m1\u001b[39m\n\u001b[1;32m---> 19\u001b[0m \u001b[38;5;28;01mwhile\u001b[39;00m ((\u001b[38;5;28mabs\u001b[39m(\u001b[43mxn1\u001b[49m\u001b[38;5;241m-\u001b[39mxn)\u001b[38;5;241m>\u001b[39m\u001b[38;5;241m=\u001b[39me) \u001b[38;5;241m&\u001b[39m (\u001b[38;5;28mabs\u001b[39m(yn1\u001b[38;5;241m-\u001b[39myn) \u001b[38;5;241m>\u001b[39m\u001b[38;5;241m=\u001b[39me)):\n\u001b[0;32m     20\u001b[0m  xn \u001b[38;5;241m=\u001b[39m xn1\n\u001b[0;32m     21\u001b[0m  yn \u001b[38;5;241m=\u001b[39m yn1\n",
      "\u001b[1;31mNameError\u001b[0m: name 'xn1' is not defined"
     ]
    }
   ],
   "source": [
    "import numpy as np\n",
    "from scipy import optimize\n",
    "from scipy.misc import derivative\n",
    "import math\n",
    "\n",
    "x0 = 2\n",
    "y0 = 0.7\n",
    "delta = 0.1\n",
    "def f1(x):\n",
    " return -math.sin(x-1)+1.5\n",
    "def f2(y):\n",
    " return math.sin(y+1)+1\n",
    "def iter (x,y,e):\n",
    " xn = x\n",
    " yn = y\n",
    " xn1 = f2(x)\n",
    " yn1 = f1(y)\n",
    " n = 1\n",
    "while ((abs(xn1-xn)>=e) & (abs(yn1-yn) >=e)):\n",
    " xn = xn1\n",
    " yn = yn1\n",
    " xn1 = f2(yn)\n",
    " yn1 = f1(xn)\n",
    " n += 1\n",
    "print ('Simple iteration:')\n",
    "print ('x=', xn, '\\ny=',yn,'\\nThe amount of iteration = ',n)\n",
    "iter(x0,y0,0.0001)\n",
    "def f3(x): #Задаємо функцію для перевірки\n",
    " return math.sin(x[0]-1)+x[1]-1.5, x[0]-math.sin(x[1]+1)-1\n",
    "s = optimize.root(f3, [0.,0.], method = 'hybr') #Перевірка розв*язку #Відповіді мають співпасти\n",
    "print ('Chek',s.x)"
   ]
  },
  {
   "cell_type": "code",
   "execution_count": null,
   "id": "b5fcb336-8f40-499d-a4e5-7a3de7cdc305",
   "metadata": {},
   "outputs": [],
   "source": []
  },
  {
   "cell_type": "code",
   "execution_count": null,
   "id": "177e8617-5960-4896-ae9c-ab0f50d1dee1",
   "metadata": {},
   "outputs": [],
   "source": []
  },
  {
   "cell_type": "code",
   "execution_count": null,
   "id": "b130eb7e-86b7-4d0e-9161-0208027430b5",
   "metadata": {},
   "outputs": [],
   "source": []
  }
 ],
 "metadata": {
  "kernelspec": {
   "display_name": "Python 3 (ipykernel)",
   "language": "python",
   "name": "python3"
  },
  "language_info": {
   "codemirror_mode": {
    "name": "ipython",
    "version": 3
   },
   "file_extension": ".py",
   "mimetype": "text/x-python",
   "name": "python",
   "nbconvert_exporter": "python",
   "pygments_lexer": "ipython3",
   "version": "3.11.5"
  }
 },
 "nbformat": 4,
 "nbformat_minor": 5
}
