{
 "cells": [
  {
   "cell_type": "code",
   "execution_count": 27,
   "id": "956f2d16-1c1e-4648-9a24-049725ffa8d4",
   "metadata": {},
   "outputs": [
    {
     "name": "stdout",
     "output_type": "stream",
     "text": [
      "A= [[ 3 -5  3]\n",
      " [ 1  2  1]\n",
      " [ 2  7 -1]]\n",
      "B= [[1]\n",
      " [4]\n",
      " [8]]\n",
      "[[ 0.27272727 -0.48484848  0.33333333]\n",
      " [-0.09090909  0.27272727  0.        ]\n",
      " [-0.09090909  0.93939394 -0.33333333]]\n",
      "X= [[1.]\n",
      " [1.]\n",
      " [1.]]\n"
     ]
    }
   ],
   "source": [
    "A=np.matrix('3 -5 3;1,2,1;2,7,-1')\n",
    "B=np.matrix('1;4;8')\n",
    "print('A=',A)\n",
    "print('B=',B)\n",
    "A_inv=np.linalg.inv(A)\n",
    "print(A_inv)\n",
    "X=A_inv.dot(B)\n",
    "print('X=',X)"
   ]
  },
  {
   "cell_type": "code",
   "execution_count": null,
   "id": "b5fcb336-8f40-499d-a4e5-7a3de7cdc305",
   "metadata": {},
   "outputs": [],
   "source": []
  },
  {
   "cell_type": "code",
   "execution_count": null,
   "id": "177e8617-5960-4896-ae9c-ab0f50d1dee1",
   "metadata": {},
   "outputs": [],
   "source": []
  },
  {
   "cell_type": "code",
   "execution_count": null,
   "id": "b130eb7e-86b7-4d0e-9161-0208027430b5",
   "metadata": {},
   "outputs": [],
   "source": []
  }
 ],
 "metadata": {
  "kernelspec": {
   "display_name": "Python 3 (ipykernel)",
   "language": "python",
   "name": "python3"
  },
  "language_info": {
   "codemirror_mode": {
    "name": "ipython",
    "version": 3
   },
   "file_extension": ".py",
   "mimetype": "text/x-python",
   "name": "python",
   "nbconvert_exporter": "python",
   "pygments_lexer": "ipython3",
   "version": "3.11.5"
  }
 },
 "nbformat": 4,
 "nbformat_minor": 5
}
