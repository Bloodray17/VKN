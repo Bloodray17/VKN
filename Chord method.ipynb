{
 "cells": [
  {
   "cell_type": "code",
   "execution_count": 12,
   "id": "956f2d16-1c1e-4648-9a24-049725ffa8d4",
   "metadata": {},
   "outputs": [
    {
     "name": "stdout",
     "output_type": "stream",
     "text": [
      "Found segment:  [0, 1]\n",
      "Found segment:  [2, 3]\n",
      "x=  2.22322   -   Chord method\n"
     ]
    },
    {
     "name": "stderr",
     "output_type": "stream",
     "text": [
      "C:\\Users\\pc\\AppData\\Local\\Temp\\ipykernel_3520\\2124997430.py:25: DeprecationWarning: scipy.misc.derivative is deprecated in SciPy v1.10.0; and will be completely removed in SciPy v1.12.0. You may consider using findiff: https://github.com/maroba/findiff or numdifftools: https://github.com/pbrod/numdifftools\n",
      "  if (f(a)*derivative(f,a,n=2)>0):\n"
     ]
    }
   ],
   "source": [
    "import math\n",
    "import numpy as np\n",
    "from scipy.misc import derivative\n",
    "def f(x):\n",
    "   return x**4-2*x**3+2*x**2-6*x+1\n",
    "eps=0.0001\n",
    "def find_segments(): #відокремлюємо корені\n",
    "    search_range = np.arange(-10, 10, 1) \n",
    "    a = None\n",
    "    previous_x = None\n",
    "    current_x  = None\n",
    "    segments = []\n",
    "    for x in search_range:\n",
    "        x = round(x, 4)\n",
    "        current_x = f(x)\n",
    "        if previous_x != None and previous_x * current_x < 0:\n",
    "            segments.append((a, x))\n",
    "        a = x\n",
    "        previous_x = current_x\n",
    "    return segments\n",
    "segments = find_segments()\n",
    "for a, b in segments:\n",
    "    print(f'Found segment:  [{a}, {b}]')\n",
    "def hord (a,b,eps): #метод хорд \n",
    "    if (f(a)*derivative(f,a,n=2)>0): \n",
    "        x0=a \n",
    "        xi=b \n",
    "    else: \n",
    "        x0=b \n",
    "        xi=a \n",
    "    xi_1=xi-(xi-x0)*f(xi)/(f(xi)-f(x0)) \n",
    "    while (abs(xi_1-xi)>eps): \n",
    "        xi=xi_1 \n",
    "        xi_1=xi-(xi-x0)*f(xi)/(f(xi)-f(x0)) \n",
    "    print('x= ', round (xi_1,5) , '  -   Chord method') \n",
    "hord (a,b,eps)"
   ]
  },
  {
   "cell_type": "code",
   "execution_count": null,
   "id": "b5fcb336-8f40-499d-a4e5-7a3de7cdc305",
   "metadata": {},
   "outputs": [],
   "source": []
  },
  {
   "cell_type": "code",
   "execution_count": null,
   "id": "177e8617-5960-4896-ae9c-ab0f50d1dee1",
   "metadata": {},
   "outputs": [],
   "source": []
  },
  {
   "cell_type": "code",
   "execution_count": null,
   "id": "b130eb7e-86b7-4d0e-9161-0208027430b5",
   "metadata": {},
   "outputs": [],
   "source": []
  }
 ],
 "metadata": {
  "kernelspec": {
   "display_name": "Python 3 (ipykernel)",
   "language": "python",
   "name": "python3"
  },
  "language_info": {
   "codemirror_mode": {
    "name": "ipython",
    "version": 3
   },
   "file_extension": ".py",
   "mimetype": "text/x-python",
   "name": "python",
   "nbconvert_exporter": "python",
   "pygments_lexer": "ipython3",
   "version": "3.11.5"
  }
 },
 "nbformat": 4,
 "nbformat_minor": 5
}
