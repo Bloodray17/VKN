{
 "cells": [
  {
   "cell_type": "code",
   "execution_count": 15,
   "id": "956f2d16-1c1e-4648-9a24-049725ffa8d4",
   "metadata": {},
   "outputs": [
    {
     "name": "stdout",
     "output_type": "stream",
     "text": [
      "Found segment:  [0, 1]\n",
      "Found segment:  [2, 3]\n"
     ]
    },
    {
     "ename": "NameError",
     "evalue": "name 'eps' is not defined",
     "output_type": "error",
     "traceback": [
      "\u001b[1;31m---------------------------------------------------------------------------\u001b[0m",
      "\u001b[1;31mNameError\u001b[0m                                 Traceback (most recent call last)",
      "Cell \u001b[1;32mIn[15], line 32\u001b[0m\n\u001b[0;32m     30\u001b[0m         x \u001b[38;5;241m=\u001b[39m (a\u001b[38;5;241m+\u001b[39mb)\u001b[38;5;241m/\u001b[39m\u001b[38;5;241m2\u001b[39m \n\u001b[0;32m     31\u001b[0m     \u001b[38;5;28mprint\u001b[39m (\u001b[38;5;124m'\u001b[39m\u001b[38;5;124mx= \u001b[39m\u001b[38;5;124m'\u001b[39m, \u001b[38;5;28mround\u001b[39m(x,\u001b[38;5;241m5\u001b[39m), \u001b[38;5;124m'\u001b[39m\u001b[38;5;124m  -   Half division method\u001b[39m\u001b[38;5;124m'\u001b[39m) \n\u001b[1;32m---> 32\u001b[0m rec(a,b,\u001b[43meps\u001b[49m)\n",
      "\u001b[1;31mNameError\u001b[0m: name 'eps' is not defined"
     ]
    }
   ],
   "source": [
    "import math\n",
    "import numpy as np\n",
    "from scipy.misc import derivative\n",
    "def f(x):\n",
    "    return x**4-2*x**3+2*x**2-6*x+1\n",
    "    eps=0.0001 \n",
    "def find_segments(): #відокремлюємо корені \n",
    "    search_range = np.arange(-10, 10, 1) \n",
    "    a = None \n",
    "    previous_x = None \n",
    "    current_x  = None \n",
    "    segments = [] \n",
    "    for x in search_range: \n",
    "        x = round(x, 4) \n",
    "        current_x = f(x) \n",
    "        if previous_x != None and previous_x * current_x < 0: \n",
    "            segments.append((a, x)) \n",
    "        a = x \n",
    "        previous_x = current_x \n",
    "    return segments \n",
    "segments = find_segments() \n",
    "for a, b in segments: \n",
    "    print(f'Found segment:  [{a}, {b}]') \n",
    "def rec(a, b, eps): #метод половинного ділення \n",
    "    while (abs(a-b) > eps): \n",
    "        if f(a)*f((a+b)/2)<0:  \n",
    "            b = (a+b)/2  \n",
    "        else:  \n",
    "            a = (a+b)/2 \n",
    "        x = (a+b)/2 \n",
    "    print ('x= ', round(x,5), '  -   Half division method') \n",
    "rec(a,b,eps)"
   ]
  },
  {
   "cell_type": "code",
   "execution_count": null,
   "id": "b5fcb336-8f40-499d-a4e5-7a3de7cdc305",
   "metadata": {},
   "outputs": [],
   "source": []
  },
  {
   "cell_type": "code",
   "execution_count": null,
   "id": "177e8617-5960-4896-ae9c-ab0f50d1dee1",
   "metadata": {},
   "outputs": [],
   "source": []
  },
  {
   "cell_type": "code",
   "execution_count": null,
   "id": "b130eb7e-86b7-4d0e-9161-0208027430b5",
   "metadata": {},
   "outputs": [],
   "source": []
  }
 ],
 "metadata": {
  "kernelspec": {
   "display_name": "Python 3 (ipykernel)",
   "language": "python",
   "name": "python3"
  },
  "language_info": {
   "codemirror_mode": {
    "name": "ipython",
    "version": 3
   },
   "file_extension": ".py",
   "mimetype": "text/x-python",
   "name": "python",
   "nbconvert_exporter": "python",
   "pygments_lexer": "ipython3",
   "version": "3.11.5"
  }
 },
 "nbformat": 4,
 "nbformat_minor": 5
}
